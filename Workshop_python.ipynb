{
  "nbformat": 4,
  "nbformat_minor": 0,
  "metadata": {
    "colab": {
      "provenance": [],
      "include_colab_link": true
    },
    "kernelspec": {
      "name": "python3",
      "display_name": "Python 3"
    },
    "language_info": {
      "name": "python"
    }
  },
  "cells": [
    {
      "cell_type": "markdown",
      "metadata": {
        "id": "view-in-github",
        "colab_type": "text"
      },
      "source": [
        "<a href=\"https://colab.research.google.com/github/Cramouchegit/Cramouchegit/blob/main/Workshop_python.ipynb\" target=\"_parent\"><img src=\"https://colab.research.google.com/assets/colab-badge.svg\" alt=\"Open In Colab\"/></a>"
      ]
    },
    {
      "cell_type": "markdown",
      "source": [
        "# Coding 101: Getting Started with Python\n",
        "\n",
        "By: [Richard Cornelius Suwandi](https://richardcsuwandi.github.io/)\n",
        "\n",
        "\n",
        "<img src=\"https://logicoretech.com/wp-content/uploads/2022/05/Python-Symbol.png\" width=\"400\" height=\"250\" />\n"
      ],
      "metadata": {
        "id": "mvl6ngH-3wd6"
      }
    },
    {
      "cell_type": "code",
      "source": [
        "print(\"Hello Python!\")"
      ],
      "metadata": {
        "id": "dgEkNP4QVk7K",
        "outputId": "ece505ce-67fd-4969-8d7b-2e17dc6f1d35",
        "colab": {
          "base_uri": "https://localhost:8080/"
        }
      },
      "execution_count": null,
      "outputs": [
        {
          "output_type": "stream",
          "name": "stdout",
          "text": [
            "Hello Python!\n"
          ]
        }
      ]
    },
    {
      "cell_type": "markdown",
      "source": [
        "## Apa itu Python?\n",
        "> Python adalah **bahasa pemrograman serbaguna** yang bisa dijalankan pada hampir semua sistem, dan bisa digunakan untuk berbagai aplikasi di banyak bidang, mulai dari *web development* hingga *machine learning*."
      ],
      "metadata": {
        "id": "Cwlbw0sp9Wxn"
      }
    },
    {
      "cell_type": "markdown",
      "source": [
        "## Mengapa Python?\n",
        "Berikut adalah 3 alasan mengapa Python cocok untuk dipelajari oleh pemula:\n",
        "1. Python adalah salah satu bahasa pemrograman yang relatif **mudah untuk dipelajari**\n",
        "2. Python dilengkapi dengan **banyak *libraries* dan *tools***\n",
        "3. Python didukung oleh **komunitas yang besar dan aktif**"
      ],
      "metadata": {
        "id": "gXJiXhfH6ZCx"
      }
    },
    {
      "cell_type": "markdown",
      "source": [
        "## Contoh Kegunaan Python\n",
        "Berikut adalah contoh kegunaan Python dalam berbagai bidang:\n",
        "- [Analisis & Visualisasi Data](https://github.com/richardcsuwandi/airline-sentiment)\n",
        "\n",
        "<img src=\"https://github.com/richardcsuwandi/airline-sentiment/raw/master/demos/demo2.gif?raw=true\" width=800 height=400/>\n",
        "\n",
        "<img src=\"https://github.com/richardcsuwandi/airline-sentiment/raw/master/demos/demo3.gif?raw=true\" width=800 height=400/>\n",
        "\n",
        "- [Membuat Aplikasi](https://github.com/richardcsuwandi/img-enhancer-and-detector)\n",
        "\n",
        "<img src=\"https://github.com/richardcsuwandi/img-enhancer-and-detector/raw/master/demo1.gif?raw=truee\" width=800 height=400/>\n",
        "\n",
        "<img src=\"https://github.com/richardcsuwandi/img-enhancer-and-detector/raw/master/demo2.gif?raw=true\" width=800 height=400/>\n",
        "\n",
        "- [Machine Learning](https://github.com/richardcsuwandi/dl-projects)\n",
        "\n",
        "<img src=\"https://richardcsuwandi.github.io/project/dl-projects/featured_hudc4d873bb4b5e8414a7a9f16bf23b9ea_59585_550x0_resize_q90_lanczos_3.png\" width=600 height=600/>\n",
        "\n",
        "*More projects available [here](https://github.com/richardcsuwandi)*"
      ],
      "metadata": {
        "id": "cdvxUNLiBx0k"
      }
    },
    {
      "cell_type": "markdown",
      "source": [
        "## Data Types\n",
        "Berikut adalah jenis-jenis *data type* dalam Python,\n",
        "- String (`str`): Menyatakan karakter atau kalimat\n",
        "- Integer (`int`): Menyatakan bilangan bulat\n",
        "- Float (`float`): Menyatakan bilangan desimal\n",
        "- Boolean (`bool`): Menyatakan benar (*True*) atau salah (*False*)"
      ],
      "metadata": {
        "id": "ePNl-7etX1QH"
      }
    },
    {
      "cell_type": "code",
      "source": [
        "# String\n",
        "type(\"I love py 123\")"
      ],
      "metadata": {
        "id": "3mv2eGJmZODB",
        "outputId": "e2e35566-7960-40a7-a7d4-eb46c27c9d17",
        "colab": {
          "base_uri": "https://localhost:8080/"
        }
      },
      "execution_count": null,
      "outputs": [
        {
          "output_type": "execute_result",
          "data": {
            "text/plain": [
              "str"
            ]
          },
          "metadata": {},
          "execution_count": 19
        }
      ]
    },
    {
      "cell_type": "code",
      "source": [
        "# Integer\n",
        "type(100000)"
      ],
      "metadata": {
        "id": "PomLu6_WZT3_",
        "outputId": "27be1f2c-7fb7-4617-9d63-eccf60d60b79",
        "colab": {
          "base_uri": "https://localhost:8080/"
        }
      },
      "execution_count": null,
      "outputs": [
        {
          "output_type": "execute_result",
          "data": {
            "text/plain": [
              "int"
            ]
          },
          "metadata": {},
          "execution_count": 20
        }
      ]
    },
    {
      "cell_type": "code",
      "source": [
        "# Float\n",
        "type(10.3)"
      ],
      "metadata": {
        "id": "Wc0Luyu6ZXRu",
        "outputId": "fbc99ccc-4c36-4449-bccd-21c18d3ae698",
        "colab": {
          "base_uri": "https://localhost:8080/"
        }
      },
      "execution_count": null,
      "outputs": [
        {
          "output_type": "execute_result",
          "data": {
            "text/plain": [
              "float"
            ]
          },
          "metadata": {},
          "execution_count": 21
        }
      ]
    },
    {
      "cell_type": "code",
      "source": [
        "# Boolean (True, False)\n",
        "type(False)"
      ],
      "metadata": {
        "id": "bJ40oE48ZaYs",
        "outputId": "e79af05c-b5ff-49e2-87c6-24e0a00b7493",
        "colab": {
          "base_uri": "https://localhost:8080/"
        }
      },
      "execution_count": null,
      "outputs": [
        {
          "output_type": "execute_result",
          "data": {
            "text/plain": [
              "bool"
            ]
          },
          "metadata": {},
          "execution_count": 22
        }
      ]
    },
    {
      "cell_type": "code",
      "source": [
        "# None\n",
        "None"
      ],
      "metadata": {
        "id": "_5cS6GXzZdAy"
      },
      "execution_count": null,
      "outputs": []
    },
    {
      "cell_type": "markdown",
      "source": [
        "Kita dapat mengubah tipe data melalui *casting*:"
      ],
      "metadata": {
        "id": "Ql0IwOvpZ4Vq"
      }
    },
    {
      "cell_type": "code",
      "source": [
        "# str -> int\n",
        "int(\"123\")"
      ],
      "metadata": {
        "id": "XpxwchuRZ-y9",
        "outputId": "00441d89-085d-4ede-89db-9f91360cdcf3",
        "colab": {
          "base_uri": "https://localhost:8080/"
        }
      },
      "execution_count": null,
      "outputs": [
        {
          "output_type": "execute_result",
          "data": {
            "text/plain": [
              "123"
            ]
          },
          "metadata": {},
          "execution_count": 23
        }
      ]
    },
    {
      "cell_type": "code",
      "source": [
        "# float -> str\n",
        "str(99.9)"
      ],
      "metadata": {
        "id": "nvjLHHq4aGDl",
        "outputId": "5aa8d44c-7173-43d0-d024-b4051fea6eda",
        "colab": {
          "base_uri": "https://localhost:8080/",
          "height": 35
        }
      },
      "execution_count": null,
      "outputs": [
        {
          "output_type": "execute_result",
          "data": {
            "text/plain": [
              "'99.9'"
            ],
            "application/vnd.google.colaboratory.intrinsic+json": {
              "type": "string"
            }
          },
          "metadata": {},
          "execution_count": 26
        }
      ]
    },
    {
      "cell_type": "code",
      "source": [
        "# bool -> int\n",
        "# False -> 0\n",
        "# True -> 1\n",
        "int(False)"
      ],
      "metadata": {
        "id": "l6kbNL9-aK8d",
        "outputId": "40e2ba7d-2d73-4087-d909-9c76ea08d45c",
        "colab": {
          "base_uri": "https://localhost:8080/"
        }
      },
      "execution_count": null,
      "outputs": [
        {
          "output_type": "execute_result",
          "data": {
            "text/plain": [
              "0"
            ]
          },
          "metadata": {},
          "execution_count": 28
        }
      ]
    },
    {
      "cell_type": "markdown",
      "source": [
        "## Variables\n",
        "Variabel dapat kita gunakan untuk menyimpan nilai dari suatu tipe data. Untuk mulai membuat sebuah variabel, kita cukup menuliskan nama variabel lalu menambahkan tanda `=` diikuti dengan nilai yang ingin disimpan:"
      ],
      "metadata": {
        "id": "Rk6JBa-5dflQ"
      }
    },
    {
      "cell_type": "code",
      "source": [
        "# Membuat variabel\n",
        "myString = 123\n",
        "myString"
      ],
      "metadata": {
        "id": "QYXwTO9Cd_BC",
        "outputId": "d5fdca67-b860-46f6-bece-a0d33d33af09",
        "colab": {
          "base_uri": "https://localhost:8080/"
        }
      },
      "execution_count": null,
      "outputs": [
        {
          "output_type": "execute_result",
          "data": {
            "text/plain": [
              "123"
            ]
          },
          "metadata": {},
          "execution_count": 31
        }
      ]
    },
    {
      "cell_type": "markdown",
      "source": [
        "Nama variabel di Python bersifat *case-sensitive*, artinya huruf kecil dan huruf besar akan dibedakan:"
      ],
      "metadata": {
        "id": "wRuPHFH_eGZJ"
      }
    },
    {
      "cell_type": "code",
      "source": [
        "# Berikut adalah 2 variabel berbeda\n",
        "a = 1\n",
        "A = 100\n",
        "A"
      ],
      "metadata": {
        "id": "Od7t3iPzePvA",
        "outputId": "e3925e9c-bcb6-440a-c599-b22af6a34a0a",
        "colab": {
          "base_uri": "https://localhost:8080/"
        }
      },
      "execution_count": null,
      "outputs": [
        {
          "output_type": "execute_result",
          "data": {
            "text/plain": [
              "100"
            ]
          },
          "metadata": {},
          "execution_count": 36
        }
      ]
    },
    {
      "cell_type": "markdown",
      "source": [
        "Variabel dalam Python bersifat yang dinamis, artinya variabel tidak perlu didekralasikan dengan tipe data tertentu dan dapat diubah saat program dijalankan:"
      ],
      "metadata": {
        "id": "gOPAiwwHesZM"
      }
    },
    {
      "cell_type": "code",
      "source": [
        "# Variabel bersifat dinamis\n",
        "a = 1\n",
        "a = \"Python\"\n",
        "a"
      ],
      "metadata": {
        "id": "G7jE6GuTe2KM",
        "outputId": "ae8a826b-3f4f-4ef9-9cac-9d63cfd84c57",
        "colab": {
          "base_uri": "https://localhost:8080/",
          "height": 35
        }
      },
      "execution_count": null,
      "outputs": [
        {
          "output_type": "execute_result",
          "data": {
            "text/plain": [
              "'Python'"
            ],
            "application/vnd.google.colaboratory.intrinsic+json": {
              "type": "string"
            }
          },
          "metadata": {},
          "execution_count": 38
        }
      ]
    },
    {
      "cell_type": "markdown",
      "source": [
        "## More Data Types"
      ],
      "metadata": {
        "id": "oRsVDdn32AXv"
      }
    },
    {
      "cell_type": "markdown",
      "source": [
        "Selain *data types* diatas, ada beberapa tipe data lain yang lebih kompleks untuk menampung sekumpulan data,\n",
        "- List (`list`): dapat diisi lebih dari satu tipe data, berurutan, dapat diubah (*mutable*), mengijinkan adanya data duplikat\n"
      ],
      "metadata": {
        "id": "EtG2Uy-wvqws"
      }
    },
    {
      "cell_type": "code",
      "source": [
        "# List\n",
        "# index    0.     1.       2.   3.     4\n",
        "myList = [123, \"Python\", True, 0.5, \"Python\"]\n",
        "myList"
      ],
      "metadata": {
        "id": "76N_rIQVwF-O",
        "outputId": "3bf9494b-264c-41f4-ea20-b504f4c7ecd9",
        "colab": {
          "base_uri": "https://localhost:8080/"
        }
      },
      "execution_count": null,
      "outputs": [
        {
          "output_type": "execute_result",
          "data": {
            "text/plain": [
              "[123, 'Python', True, 0.5, 'Python']"
            ]
          },
          "metadata": {},
          "execution_count": 49
        }
      ]
    },
    {
      "cell_type": "code",
      "source": [
        "# List bersifat mutable\n",
        "myList[0] = 456\n",
        "myList[3] = \"Is Fun\"\n",
        "myList"
      ],
      "metadata": {
        "id": "thUcor5AxM4F",
        "outputId": "35ec0c6d-91b4-45ba-b905-2b5cc6d65bb5",
        "colab": {
          "base_uri": "https://localhost:8080/"
        }
      },
      "execution_count": null,
      "outputs": [
        {
          "output_type": "execute_result",
          "data": {
            "text/plain": [
              "[456, 'Python', True, 'Is Fun', 'Python']"
            ]
          },
          "metadata": {},
          "execution_count": 52
        }
      ]
    },
    {
      "cell_type": "markdown",
      "source": [
        "- Tuple (`tuple`): dapat diisi lebih dari satu tipe data, berurutan, tidak dapat diubah (*immutable*), mengijinkan adanya data duplikat\n"
      ],
      "metadata": {
        "id": "Kedeh23Aw3Kx"
      }
    },
    {
      "cell_type": "code",
      "source": [
        "# Tuple\n",
        "myTuple = (123, \"python\", True, 0.6)\n",
        "myTuple"
      ],
      "metadata": {
        "id": "_qHOuspjw7Kl",
        "outputId": "e14fa85d-b3b2-4bdf-f12e-673d5030ae6d",
        "colab": {
          "base_uri": "https://localhost:8080/"
        }
      },
      "execution_count": null,
      "outputs": [
        {
          "output_type": "execute_result",
          "data": {
            "text/plain": [
              "(123, 'python', True, 0.6)"
            ]
          },
          "metadata": {},
          "execution_count": 55
        }
      ]
    },
    {
      "cell_type": "code",
      "source": [
        "# Tuple bersifat immutable\n",
        "myTuple[0]"
      ],
      "metadata": {
        "id": "K_sMpasXxMnP",
        "outputId": "05a24436-fe8e-46fc-acae-40059546c152",
        "colab": {
          "base_uri": "https://localhost:8080/"
        }
      },
      "execution_count": null,
      "outputs": [
        {
          "output_type": "execute_result",
          "data": {
            "text/plain": [
              "123"
            ]
          },
          "metadata": {},
          "execution_count": 58
        }
      ]
    },
    {
      "cell_type": "markdown",
      "source": [
        "- Set (`set`): dapat diisi lebih dari satu tipe data, tidak berurutan, tidak dapat diubah (*immutable*), tidak mengijinkan adanya data duplikat\n"
      ],
      "metadata": {
        "id": "6ZvNMvSkx2Xn"
      }
    },
    {
      "cell_type": "code",
      "source": [
        "# Set\n",
        "{123, \"python\", True, 0.6, 123}"
      ],
      "metadata": {
        "id": "XqJww7kxxwCP",
        "outputId": "ff629906-d0b6-49ce-fed5-17c188c77659",
        "colab": {
          "base_uri": "https://localhost:8080/"
        }
      },
      "execution_count": null,
      "outputs": [
        {
          "output_type": "execute_result",
          "data": {
            "text/plain": [
              "{0.6, 123, True, 'python'}"
            ]
          },
          "metadata": {},
          "execution_count": 60
        }
      ]
    },
    {
      "cell_type": "markdown",
      "source": [
        "- Dictionary (`dict`): memetakan sebuah nilai ke dalam nilai lainnya dengan menggunakan \"kunci\"\n"
      ],
      "metadata": {
        "id": "N4-PqShAyriN"
      }
    },
    {
      "cell_type": "code",
      "source": [
        "# Dictionary\n",
        "myDict = {\"Nama\": \"Doni\", \"Usia\": 25, \"Hobi\": [\"Olahraga\", \"Nonton\", \"Tidur\"]}\n",
        "myDict"
      ],
      "metadata": {
        "id": "IeZLAIXzy51m",
        "outputId": "e31279c7-bbac-471f-e968-55eaac2c9b2d",
        "colab": {
          "base_uri": "https://localhost:8080/"
        }
      },
      "execution_count": null,
      "outputs": [
        {
          "output_type": "execute_result",
          "data": {
            "text/plain": [
              "{'Nama': 'Doni', 'Usia': 25, 'Hobi': ['Olahraga', 'Nonton', 'Tidur']}"
            ]
          },
          "metadata": {},
          "execution_count": 68
        }
      ]
    },
    {
      "cell_type": "code",
      "source": [
        "# Mengakses nilai pada dictionary\n",
        "myDict[\"Hobi\"]"
      ],
      "metadata": {
        "id": "d4fGq3MZzmFn",
        "outputId": "b9378219-71c0-4bf1-edb0-5467750c1a65",
        "colab": {
          "base_uri": "https://localhost:8080/"
        }
      },
      "execution_count": null,
      "outputs": [
        {
          "output_type": "execute_result",
          "data": {
            "text/plain": [
              "['Olahraga', 'Nonton', 'Tidur']"
            ]
          },
          "metadata": {},
          "execution_count": 69
        }
      ]
    },
    {
      "cell_type": "code",
      "source": [
        "dict_a = {'nama' : 'kunaun', 'nama': 'muldok', 'nama': 123}\n",
        "dict_a"
      ],
      "metadata": {
        "id": "6Kox_5Eo2wKU",
        "outputId": "3cf5f3df-f6c2-4da3-e13f-43c9cee826da",
        "colab": {
          "base_uri": "https://localhost:8080/"
        }
      },
      "execution_count": null,
      "outputs": [
        {
          "output_type": "execute_result",
          "data": {
            "text/plain": [
              "{'nama': 123}"
            ]
          },
          "metadata": {},
          "execution_count": 80
        }
      ]
    },
    {
      "cell_type": "markdown",
      "source": [
        "## Operators\n",
        "Dalam Python, ada berbagai jenis operator yang dapat kita gunakan:"
      ],
      "metadata": {
        "id": "j25ZpVweawzL"
      }
    },
    {
      "cell_type": "markdown",
      "source": [
        "### Operator Aritmatika\n",
        "- Penjumlahan (`+`)\n",
        "- Pengurangan (`-`)\n",
        "- Perkalian (`*`)\n",
        "- Pembagian (`/`)\n",
        "- Pembagian Bulat (`//`)\n",
        "- Modulus (`%`)\n",
        "- Pemangkatan (`**`)"
      ],
      "metadata": {
        "id": "bOLlZUyPcvIM"
      }
    },
    {
      "cell_type": "code",
      "source": [
        "# Contoh operator aritmatika:\n",
        "4 ** 2"
      ],
      "metadata": {
        "id": "gXQjgykUfIzX",
        "outputId": "dcc105e1-857d-4425-8268-292218953719",
        "colab": {
          "base_uri": "https://localhost:8080/"
        }
      },
      "execution_count": null,
      "outputs": [
        {
          "output_type": "execute_result",
          "data": {
            "text/plain": [
              "16"
            ]
          },
          "metadata": {},
          "execution_count": 78
        }
      ]
    },
    {
      "cell_type": "markdown",
      "source": [
        "### Operator Perbandingan/Relasi\n",
        "\n",
        "- Lebih besar (`>`)\n",
        "- Lebih kecil (`<`)\n",
        "- Lebih besar sama dengan (`>=`)\n",
        "- Lebih kecil sama dengan (`<=`)\n",
        "- Sama dengan (`==`)\n",
        "- Tidak sama dengan (`!=`)\n",
        "\n"
      ],
      "metadata": {
        "id": "dYj0oJEjfkf5"
      }
    },
    {
      "cell_type": "code",
      "source": [
        "# Contoh operator perbandingan/relasi:\n",
        "x = 5\n",
        "y = 10\n",
        "x != y"
      ],
      "metadata": {
        "id": "eNmYxKS3gF5L",
        "outputId": "9e2b00b8-8fbd-4674-eeee-b4e9afe376cf",
        "colab": {
          "base_uri": "https://localhost:8080/"
        }
      },
      "execution_count": null,
      "outputs": [
        {
          "output_type": "execute_result",
          "data": {
            "text/plain": [
              "True"
            ]
          },
          "metadata": {},
          "execution_count": 89
        }
      ]
    },
    {
      "cell_type": "markdown",
      "source": [
        "### Operator Logika\n",
        "- `and`: Mengembalikan `True` jika dua statement sama-sama benar\n",
        "- `or`: Mengembalikan `True` jika salah satu statement bernilai benar\n",
        "- `not`: Menegasikan hasil (`True` -> `False` dan sebaliknya)"
      ],
      "metadata": {
        "id": "FG_5POodgWxG"
      }
    },
    {
      "cell_type": "code",
      "source": [
        "# Contoh operator logika:\n",
        "not False"
      ],
      "metadata": {
        "id": "DzwnVV1kg4Xq",
        "outputId": "f720c22b-0144-4329-cf4d-65967843795b",
        "colab": {
          "base_uri": "https://localhost:8080/"
        }
      },
      "execution_count": null,
      "outputs": [
        {
          "output_type": "execute_result",
          "data": {
            "text/plain": [
              "True"
            ]
          },
          "metadata": {},
          "execution_count": 94
        }
      ]
    },
    {
      "cell_type": "markdown",
      "source": [
        "### Latihan\n",
        "Buatlah sebuah dictionary untuk menyimpan informasi berikut:\n",
        "- Harga apel per kg adalah Rp. 32.500\n",
        "- Harga melon per kg adalah Rp. 9.750\n",
        "- Harga nanas per kg adalah Rp. 5.800\n",
        "- Harga mangga per kg adalah Rp. 1.100\n",
        "\n",
        "Jika Doni membeli 1 kg apel, 1 kg melon, 2 kg nanas, dan 3 kg mangga, maka berapakah total uang yang harus ia bayar?"
      ],
      "metadata": {
        "id": "2MZgLDwG0Zwe"
      }
    },
    {
      "cell_type": "code",
      "source": [
        "# Jawaban:\n",
        "buah = {\"apel\": 32500, \"melon\": 9750, \"nanas\": 5800, \"mangga\": 1100}\n",
        "total = buah[\"apel\"] + buah[\"melon\"] + 2 * buah[\"nanas\"] + 3 * buah[\"mangga\"]\n",
        "total"
      ],
      "metadata": {
        "id": "3QwWgprU3kDr",
        "outputId": "c3136329-1beb-4368-a2c9-a9956fed9abe",
        "colab": {
          "base_uri": "https://localhost:8080/"
        }
      },
      "execution_count": null,
      "outputs": [
        {
          "output_type": "execute_result",
          "data": {
            "text/plain": [
              "57150"
            ]
          },
          "metadata": {},
          "execution_count": 98
        }
      ]
    },
    {
      "cell_type": "markdown",
      "source": [
        "## Control Flow\n",
        "Pada umumnya, kita dapat menggunakan serangkaian *keyword* `if` untuk mengatur jalannya program:"
      ],
      "metadata": {
        "id": "PsiaiWfIiJlz"
      }
    },
    {
      "cell_type": "code",
      "source": [
        "# Contoh pengunaan if\n",
        "# if kondisi\n",
        "x = 1\n",
        "if x > 0:\n",
        "  print(\"x adalah bilangan positif\")"
      ],
      "metadata": {
        "id": "swr5ti3Y87EJ",
        "outputId": "c9755619-33b6-4f7f-9f58-bfb569e0285b",
        "colab": {
          "base_uri": "https://localhost:8080/"
        }
      },
      "execution_count": null,
      "outputs": [
        {
          "output_type": "stream",
          "name": "stdout",
          "text": [
            "x adalah bilangan positif\n"
          ]
        }
      ]
    },
    {
      "cell_type": "markdown",
      "source": [
        "Untuk melakukan percabangan, kita dapat menambahkan *keyword* `elif`:"
      ],
      "metadata": {
        "id": "VHlrDmc89ny2"
      }
    },
    {
      "cell_type": "code",
      "source": [
        "# Contoh pengunaan elif\n",
        "X = 3\n",
        "if x > 0:\n",
        "  print(\"x adalah bilangan positif\")\n",
        "elif X > 0:\n",
        "  print(\"x adalah bilangan negatif\")"
      ],
      "metadata": {
        "id": "dCCOsq4O9yud",
        "outputId": "ae49bf42-390f-4e28-e053-f71f707e36bf",
        "colab": {
          "base_uri": "https://localhost:8080/"
        }
      },
      "execution_count": null,
      "outputs": [
        {
          "output_type": "stream",
          "name": "stdout",
          "text": [
            "x adalah bilangan negatif\n"
          ]
        }
      ]
    },
    {
      "cell_type": "markdown",
      "source": [
        "Selain itu, kita dapat menggunakan *keyword* `else` bila kondisi sebelumnya tidak ada yang terpenuhi:"
      ],
      "metadata": {
        "id": "gMDyLyHG-AUF"
      }
    },
    {
      "cell_type": "code",
      "source": [
        "# Contoh pengunaan else\n",
        "x = 0\n",
        "if x > 0:\n",
        "  print(\"x adalah bilangan positif\")\n",
        "elif x > 0:\n",
        "  print(\"x adalah bilangan negatif\")\n",
        "else:\n",
        "  print(\"x adalah nol\")"
      ],
      "metadata": {
        "id": "IMrS_pGJ-kzO",
        "outputId": "ecb58979-269a-40c2-c43d-0c2dc292babf",
        "colab": {
          "base_uri": "https://localhost:8080/"
        }
      },
      "execution_count": null,
      "outputs": [
        {
          "output_type": "stream",
          "name": "stdout",
          "text": [
            "x adalah nol\n"
          ]
        }
      ]
    },
    {
      "cell_type": "markdown",
      "source": [
        "Kita dapat menggabungkan beberapa kondisi dengan operator logika (`and`, `or`, `not`):"
      ],
      "metadata": {
        "id": "qmiroHwl_Ctt"
      }
    },
    {
      "cell_type": "code",
      "source": [
        "# Menggabungkan beberapa kondisi\n",
        "temp = 30\n",
        "if temp >= 0 and temp <= 15:\n",
        "  print(\"temp is low\")\n",
        "elif temp > 15 and temp <= 25:\n",
        "  print(\"temp is medium\")\n",
        "elif temp > 25:\n",
        "  print(\"temp is high\")"
      ],
      "metadata": {
        "id": "GPAbEcyz-3_k",
        "outputId": "d6dbfe89-6c3d-4322-d7d8-0eb0b92e36ed",
        "colab": {
          "base_uri": "https://localhost:8080/"
        }
      },
      "execution_count": null,
      "outputs": [
        {
          "output_type": "stream",
          "name": "stdout",
          "text": [
            "temp is high\n"
          ]
        }
      ]
    },
    {
      "cell_type": "markdown",
      "source": [
        "#### Latihan\n",
        "- Buatlah sebuah program untuk menguji apakah `num` merupakan bilangan ganjil atau bilangan genap\n",
        "- Gunakan program yang telah dibuat untuk memeriksa `num = 72`\n",
        "- Gunakan program yang telah dibuat untuk memeriksa `num = 63`"
      ],
      "metadata": {
        "id": "0yDrXbH7CABY"
      }
    },
    {
      "cell_type": "code",
      "source": [
        "# Jawaban:\n",
        "num = 72\n",
        "if num % 2 == 0:\n",
        "  print(\"genap\")\n",
        "else:\n",
        "  print(\"ganjil\")"
      ],
      "metadata": {
        "id": "QaBzRhqOCvlW",
        "outputId": "78417700-77f2-4bbe-eef9-0cdcb69bb8e3",
        "colab": {
          "base_uri": "https://localhost:8080/"
        }
      },
      "execution_count": null,
      "outputs": [
        {
          "output_type": "stream",
          "name": "stdout",
          "text": [
            "genap\n"
          ]
        }
      ]
    },
    {
      "cell_type": "markdown",
      "source": [
        "## Loops"
      ],
      "metadata": {
        "id": "83fZtbCFiLVp"
      }
    },
    {
      "cell_type": "markdown",
      "source": [
        "### For Loop\n",
        "`for` dapat digunakan untuk melakukan pengulangan sebanyak nilai tertentu. Syntax pada umumnya adalah sebagai berikut:\n",
        "\n",
        "```\n",
        "for i in range(start, stop, step):\n",
        "  ...\n",
        "```\n",
        "- `start`: nilai awal (secara default 0)\n",
        "- `stop`: nilai akhir (ekslusif)\n",
        "- `step`: langkah (opsional)"
      ],
      "metadata": {
        "id": "LqqM8EcSiM8X"
      }
    },
    {
      "cell_type": "code",
      "source": [
        "# Contoh pengunaan for\n",
        "for i in range(0, 10, 2):\n",
        " print(i) # i = 9"
      ],
      "metadata": {
        "id": "fynHbZQRc44T",
        "outputId": "fe000c1a-4bd1-44cc-9a68-9e3afe04bb66",
        "colab": {
          "base_uri": "https://localhost:8080/"
        }
      },
      "execution_count": null,
      "outputs": [
        {
          "output_type": "stream",
          "name": "stdout",
          "text": [
            "0\n",
            "2\n",
            "4\n",
            "6\n",
            "8\n"
          ]
        }
      ]
    },
    {
      "cell_type": "markdown",
      "source": [
        "Note: `range(n)` akan menghasilkan angka mulai dari $0$ hingga $n - 1$."
      ],
      "metadata": {
        "id": "lwe4hlQJdeNz"
      }
    },
    {
      "cell_type": "markdown",
      "source": [
        "Kita juga dapat menggunakan `for` loop untuk melakukan iterasi terhadap tipe data *sequence* seperti *string* (`str`):"
      ],
      "metadata": {
        "id": "Xp7jJTD1eRWy"
      }
    },
    {
      "cell_type": "code",
      "source": [
        "# Contoh for pada str\n",
        "myString = \"python\"\n",
        "for huruf in myString:\n",
        "  print(huruf)"
      ],
      "metadata": {
        "id": "byznGAbDeYzx",
        "outputId": "36d4725b-f19b-449c-a9ed-baf6e382f3ee",
        "colab": {
          "base_uri": "https://localhost:8080/"
        }
      },
      "execution_count": null,
      "outputs": [
        {
          "output_type": "stream",
          "name": "stdout",
          "text": [
            "p\n",
            "y\n",
            "t\n",
            "h\n",
            "o\n",
            "n\n"
          ]
        }
      ]
    },
    {
      "cell_type": "code",
      "source": [
        "myList = [\"apel\", \"mangga\", \"melon\"]"
      ],
      "metadata": {
        "id": "x6EoQNRZ-WV-"
      },
      "execution_count": null,
      "outputs": []
    },
    {
      "cell_type": "markdown",
      "source": [
        "#### Latihan\n",
        "(Fizzbuzz) Write a program that prints the numbers from 1 to 50. But for multiples of 3 print \"Fizz\" instead of the number and for the multiples of 5 print \"Buzz\". For numbers which are multiples of both 3 and 5 print \"FizzBuzz\":"
      ],
      "metadata": {
        "id": "lQrBzinW_210"
      }
    },
    {
      "cell_type": "code",
      "source": [
        "# Jawaban:\n",
        "# 1\n",
        "# 2\n",
        "# fizz\n",
        "# 4\n",
        "# buzz\n",
        "\n",
        "for i in range(1, 51):\n",
        "  if i % 3 == 0 and 1 % 5 == 0:\n",
        "    print(\"FizzBuzz\")\n",
        "  elif i % 3 == 0:\n",
        "    print(\"Fizz\")\n",
        "  elif i % 5 == 0:\n",
        "    print(\"Buzz\")\n",
        "  else:\n",
        "      print(i)\n"
      ],
      "metadata": {
        "id": "tWGJp9NxbuxH",
        "outputId": "f3d3ab0f-5201-4c9e-81a5-9fb9e16ef17c",
        "colab": {
          "base_uri": "https://localhost:8080/"
        }
      },
      "execution_count": null,
      "outputs": [
        {
          "output_type": "stream",
          "name": "stdout",
          "text": [
            "1\n",
            "2\n",
            "Fizz\n",
            "4\n",
            "Buzz\n",
            "Fizz\n",
            "7\n",
            "8\n",
            "Fizz\n",
            "Buzz\n",
            "11\n",
            "Fizz\n",
            "13\n",
            "14\n",
            "Fizz\n",
            "16\n",
            "17\n",
            "Fizz\n",
            "19\n",
            "Buzz\n",
            "Fizz\n",
            "22\n",
            "23\n",
            "Fizz\n",
            "Buzz\n",
            "26\n",
            "Fizz\n",
            "28\n",
            "29\n",
            "Fizz\n",
            "31\n",
            "32\n",
            "Fizz\n",
            "34\n",
            "Buzz\n",
            "Fizz\n",
            "37\n",
            "38\n",
            "Fizz\n",
            "Buzz\n",
            "41\n",
            "Fizz\n",
            "43\n",
            "44\n",
            "Fizz\n",
            "46\n",
            "47\n",
            "Fizz\n",
            "49\n",
            "Buzz\n"
          ]
        }
      ]
    },
    {
      "cell_type": "markdown",
      "source": [
        "### While Loop\n",
        "`while` akan melakukan pengulangan selama kondisi masih `True`. Pada umumnya, syntax yang digunakan adalah sebagai berikut:\n",
        "\n",
        "```\n",
        "while <kondisi>:\n",
        "  ...\n",
        "```\n",
        "\n"
      ],
      "metadata": {
        "id": "0KXdKVi1iPOm"
      }
    },
    {
      "cell_type": "code",
      "source": [
        "# Contoh pengunaan while\n",
        "x = 5\n",
        "while x > 0:\n",
        "  print(x)\n",
        "  x = x - 1"
      ],
      "metadata": {
        "id": "CoyUSOA4e_-v",
        "outputId": "89845bb0-22f0-4443-a129-b069699e3767",
        "colab": {
          "base_uri": "https://localhost:8080/"
        }
      },
      "execution_count": null,
      "outputs": [
        {
          "output_type": "stream",
          "name": "stdout",
          "text": [
            "5\n",
            "4\n",
            "3\n",
            "2\n",
            "1\n"
          ]
        }
      ]
    },
    {
      "cell_type": "markdown",
      "source": [
        "Note: Saat menggunakan `while`, kita wajib memperbaharui variabel pada tiap pengulangan agar program dapat berhenti"
      ],
      "metadata": {
        "id": "JCNo3zoYfHOh"
      }
    },
    {
      "cell_type": "markdown",
      "source": [
        "Kita dapat menggunakan *keyword* `break` untuk memberhentikan pengulangan dalam `while` loop:"
      ],
      "metadata": {
        "id": "B726pzM9foPy"
      }
    },
    {
      "cell_type": "code",
      "source": [
        "# Contoh pengunaan break\n",
        "x = 5\n",
        "while x > 0:\n",
        "  print(x)\n",
        "  if x == 3:\n",
        "    break\n",
        "  x = x - 1"
      ],
      "metadata": {
        "id": "YY5N7O97f155",
        "outputId": "44ea98a6-9202-4d80-d504-28801ed379c6",
        "colab": {
          "base_uri": "https://localhost:8080/"
        }
      },
      "execution_count": null,
      "outputs": [
        {
          "output_type": "stream",
          "name": "stdout",
          "text": [
            "5\n",
            "4\n",
            "3\n"
          ]
        }
      ]
    },
    {
      "cell_type": "markdown",
      "source": [
        "#### Latihan\n",
        "- Buatlah sebuah program untuk menghitung faktorial dari sebuah bilangan `n`\n",
        "- Gunakan `n = 5` untuk memeriksa program yang telah dibuat  \n",
        "- Gunakan `n = 8` untuk memeriksa program yang telah dibuat  \n",
        "\n",
        "*Hint: Faktorial dari sebuah bilangan $n$ dapat dihitung dengan $n! = n(n-1) \\ldots 1$*"
      ],
      "metadata": {
        "id": "Ftjo18Jwgoqa"
      }
    },
    {
      "cell_type": "code",
      "source": [
        "# Jawaban:\n",
        "n = 3\n",
        "fact = 1\n",
        "while n > 0:\n",
        "  fact = fact * n\n",
        "  n = n -1\n",
        "\n",
        "fact"
      ],
      "metadata": {
        "id": "cLxQ8INLhm3w",
        "outputId": "937d2322-0af9-43cf-b024-ef26f2e7b48e",
        "colab": {
          "base_uri": "https://localhost:8080/"
        }
      },
      "execution_count": null,
      "outputs": [
        {
          "output_type": "execute_result",
          "data": {
            "text/plain": [
              "6"
            ]
          },
          "metadata": {},
          "execution_count": 126
        }
      ]
    },
    {
      "cell_type": "markdown",
      "source": [
        "### Perbedaan For dan While\n",
        "- `for` biasa digunakan saat jumlah pengulangan sudah diketahui/ditentukan\n",
        "- `while` digunakan saat jumlah pengulangan belum diketahui/ditentukan\n"
      ],
      "metadata": {
        "id": "rWVK25sWlKiw"
      }
    },
    {
      "cell_type": "markdown",
      "source": [
        "## Mini Project\n",
        "![](https://play-lh.googleusercontent.com/Z5BA3DYVKalnbCW8CGlIM3bN699i6QwRs5oE5kr_1-OYApm2cLPSlOP6mbdUJunXtw=w240-h480-rw)\n",
        "\n",
        "Buatlah sebuah kalkulator sederhana untuk dua bilangan yang mendukung 4 jenis operasi: penjumlahan (`+`), pengurangan (`-`), perkalian (`*`), dan pembagian (`/`).\n",
        "\n",
        "*Hint: Gunakan `input()` untuk menerima inputan dari user*"
      ],
      "metadata": {
        "id": "_YzeZJTcUTmJ"
      }
    },
    {
      "cell_type": "code",
      "source": [
        "# Jawaban:\n",
        "x = float(input(\"Silahkan masukkan bilangan pertama: \"))\n",
        "y = float(input(\"Silahkan masukkan bilangan kedua: \"))\n",
        "op = input(\"Pilih jenis operasi (+, -, *, /): \")\n",
        "if op == \"+\":\n",
        "  hasil = x + y\n",
        "elif op == \"-\":\n",
        "  hasil = x - y\n",
        "elif op == \"*\":\n",
        "  hasil = x * y\n",
        "elif op == \"/\":\n",
        "  hasil = x / y\n",
        "else:\n",
        "  print(\"Tidak valid\")\n",
        "\n",
        "hasil"
      ],
      "metadata": {
        "id": "3IK8p2qXViNj",
        "outputId": "450cdcd4-7d96-4619-f39e-9b2897946b38",
        "colab": {
          "base_uri": "https://localhost:8080/"
        }
      },
      "execution_count": null,
      "outputs": [
        {
          "name": "stdout",
          "output_type": "stream",
          "text": [
            "Silahkan masukkan bilangan pertama: 5\n",
            "Silahkan masukkan bilangan kedua: 10\n",
            "Pilih jenis operasi (+, -, *, /): +\n"
          ]
        },
        {
          "output_type": "execute_result",
          "data": {
            "text/plain": [
              "15.0"
            ]
          },
          "metadata": {},
          "execution_count": 128
        }
      ]
    },
    {
      "cell_type": "markdown",
      "source": [
        "## Thanks for joining!\n",
        "Feel free to connect with me:\n",
        "\n",
        "[<img align=\"left\" alt=\"richardcsuwandi.github.io\" width=\"30px\" src=\"https://raw.githubusercontent.com/iconic/open-iconic/master/svg/globe.svg\"/>][Website]\n",
        "\n",
        "[<img align=\"left\" alt=\"linkedin.com/richardcsuwandi\" width=\"30px\" src=\"https://cdn.jsdelivr.net/npm/simple-icons@v3/icons/linkedin.svg\" />][LinkedIn]\n",
        "\n",
        "[<img align=\"left\" alt=\"https://www.github.com/richardcsuwandi\" width=\"30px\" src=\"http://simpleicons.org/icons/github.svg\" />][GitHub]\n",
        "\n",
        "[Website]: https://richardcsuwandi.github.io\n",
        "[LinkedIn]: https://linkedin.com/in/richardcsuwandi\n",
        "[GitHub]: https://github.com/richardcsuwandi"
      ],
      "metadata": {
        "id": "tqBrySe2YpHd"
      }
    }
  ]
}